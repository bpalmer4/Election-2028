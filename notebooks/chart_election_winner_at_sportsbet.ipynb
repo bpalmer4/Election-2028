{
 "cells": [
  {
   "cell_type": "markdown",
   "id": "7b00fd31",
   "metadata": {},
   "source": [
    "# Chart election winner at sportsbet"
   ]
  },
  {
   "cell_type": "markdown",
   "id": "ca41c267",
   "metadata": {},
   "source": [
    "## Python set-up"
   ]
  },
  {
   "cell_type": "code",
   "execution_count": 1,
   "id": "7d3bc55b",
   "metadata": {
    "ExecuteTime": {
     "end_time": "2022-03-22T19:52:01.178597Z",
     "start_time": "2022-03-22T19:51:44.732031Z"
    }
   },
   "outputs": [],
   "source": [
    "import pandas as pd\n",
    "import mgplot as mg\n",
    "import numpy as np\n",
    "from common import RFOOTER"
   ]
  },
  {
   "cell_type": "code",
   "execution_count": 2,
   "id": "78633567",
   "metadata": {},
   "outputs": [],
   "source": [
    "# plotting constants\n",
    "LFOOTER = (\n",
    "    \"Betting odds observed daily at sportsbet.com.au \"\n",
    "    + \"(gaps = missing observations). \"\n",
    ")\n",
    "footers = {\"lfooter\": LFOOTER, \"rfooter\": RFOOTER}\n",
    "SHOW = True"
   ]
  },
  {
   "cell_type": "code",
   "execution_count": 3,
   "id": "83a66611-5498-49c8-bdc9-fd556d3b9b26",
   "metadata": {},
   "outputs": [],
   "source": [
    "# plotting directory set-up\n",
    "def set_up_plotting() -> None:\n",
    "    \"\"\"Set up plotting.\"\"\"\n",
    "\n",
    "    mg.set_chart_dir(\"../charts/election-winner/\")\n",
    "    mg.clear_chart_dir()\n",
    "\n",
    "\n",
    "set_up_plotting()"
   ]
  },
  {
   "cell_type": "markdown",
   "id": "b6ec3056",
   "metadata": {},
   "source": [
    "## Get data"
   ]
  },
  {
   "cell_type": "code",
   "execution_count": 4,
   "id": "08a2fb1a",
   "metadata": {},
   "outputs": [],
   "source": [
    "def amalg_columns(df: pd.DataFrame, columns: list) -> pd.DataFrame:\n",
    "    \"\"\"Amalgamate columns into a single column (named for the first column).\n",
    "    Where, for each row, only one non-NAN value exists, that value is used.\"\"\"\n",
    "\n",
    "    # --- validate inputs\n",
    "    if not columns or len(columns) < 2:\n",
    "        raise ValueError(\"Need at least 2 columns to amalgamate\")\n",
    "\n",
    "    missing_cols = [col for col in columns if col not in df.columns]\n",
    "    if missing_cols:\n",
    "        raise ValueError(f\"Columns not found in DataFrame: {missing_cols}\")\n",
    "\n",
    "    # --- check only one non-NAN value exists per row\n",
    "    multi_value_rows = df[columns].notna().sum(axis=1).gt(1)\n",
    "    if multi_value_rows.any():\n",
    "        problem_rows = df[multi_value_rows].index.tolist()\n",
    "        raise ValueError(\n",
    "            f\"Rows have multiple non-NaN values in columns {columns}: {problem_rows[:5]}...\"\n",
    "            f\" (showing first 5 of {len(problem_rows)} problem rows)\"\n",
    "        )\n",
    "\n",
    "    # --- amalgamate columns\n",
    "    df = df.copy()  # Avoid modifying original DataFrame\n",
    "    df[columns[0]] = df[columns].bfill(axis=1).iloc[:, 0]\n",
    "\n",
    "    # --- drop the other columns\n",
    "    df = df.drop(columns=columns[1:])\n",
    "\n",
    "    print(f\"Amalgamated columns {columns[1:]} into {columns[0]}\")\n",
    "    return df"
   ]
  },
  {
   "cell_type": "code",
   "execution_count": 5,
   "id": "3747b16d",
   "metadata": {
    "ExecuteTime": {
     "end_time": "2022-03-22T19:52:01.226870Z",
     "start_time": "2022-03-22T19:52:01.185106Z"
    }
   },
   "outputs": [
    {
     "name": "stdout",
     "output_type": "stream",
     "text": [
      "Amalgamated columns ['Coalition'] into Liberal and/or Nationals\n",
      "Any Other Result \n",
      " 2025-08-23    51.0\n",
      "2025-08-24    51.0\n",
      "2025-08-25    51.0\n",
      "2025-08-26    51.0\n",
      "2025-08-27    51.0\n",
      "Freq: D, Name: Any Other Result, dtype: float64\n",
      "Successfully loaded data with 113 rows and 2 parties: ['Labor', 'Liberal and/or Nationals']\n"
     ]
    }
   ],
   "source": [
    "def get_odds_data() -> pd.DataFrame:\n",
    "    \"\"\"Get the data for the election winner betting odds.\"\"\"\n",
    "\n",
    "    # --- read the data with error handling\n",
    "    file_name = \"../betting-data/sportsbet-2028-election-winner.csv\"\n",
    "    try:\n",
    "        df: pd.DataFrame = pd.read_csv(file_name, index_col=0)\n",
    "    except FileNotFoundError:\n",
    "        raise FileNotFoundError(f\"Data file not found: {file_name}\")\n",
    "    except pd.errors.EmptyDataError:\n",
    "        raise ValueError(f\"Data file is empty: {file_name}\")\n",
    "\n",
    "    # --- handle mixed column formats (old data uses variable/value, new uses Party/Odds)\n",
    "    if \"variable\" in df.columns and \"value\" in df.columns:\n",
    "        # Old format - rename columns for consistency\n",
    "        df = df.rename(columns={\"variable\": \"Party\", \"value\": \"Odds\"})\n",
    "    elif \"Party\" in df.columns and \"Odds\" in df.columns:\n",
    "        # New format - already correct\n",
    "        pass\n",
    "    else:\n",
    "        raise ValueError(\n",
    "            f\"Unexpected CSV format. Expected 'Party' and 'Odds' columns, got: {list(df.columns)}\"\n",
    "        )\n",
    "\n",
    "    # --- validate data\n",
    "    if df.empty:\n",
    "        raise ValueError(\"No data found in CSV file\")\n",
    "\n",
    "    if df[\"Odds\"].isnull().all():\n",
    "        raise ValueError(\"All odds values are null\")\n",
    "\n",
    "    # Check for negative odds\n",
    "    numeric_odds = pd.to_numeric(df[\"Odds\"], errors=\"coerce\")\n",
    "    if (numeric_odds < 0).any():\n",
    "        raise ValueError(\"Negative odds detected in data\")\n",
    "\n",
    "    # --- pivot and process data\n",
    "    try:\n",
    "        df = df.pivot(columns=\"Party\", values=\"Odds\")\n",
    "    except ValueError as e:\n",
    "        raise ValueError(f\"Error pivoting data: {e}\")\n",
    "\n",
    "    # Convert to PeriodIndex and remove duplicates\n",
    "    try:\n",
    "        df.index = pd.PeriodIndex(df.index, freq=\"D\")\n",
    "        df = df[~df.index.duplicated(keep=\"first\")].sort_index()\n",
    "    except Exception as e:\n",
    "        raise ValueError(f\"Error processing date index: {e}\")\n",
    "\n",
    "    # --- column amalgamations (manage data discontinuities)\n",
    "    amalg_set = [\n",
    "        [\"Liberal and/or Nationals\", \"Coalition\"],\n",
    "        # add as needed\n",
    "    ]\n",
    "    for columns in amalg_set:\n",
    "        # Only amalgamate if both columns exist\n",
    "        existing_columns = [col for col in columns if col in df.columns]\n",
    "        if len(existing_columns) > 1:\n",
    "            df = amalg_columns(df, existing_columns)\n",
    "\n",
    "    # --- fill in missing dates - this will be useful for plotting\n",
    "    if len(df) > 0:\n",
    "        new_index = pd.period_range(start=df.index.min(), end=df.index.max(), freq=\"D\")\n",
    "        df = df.reindex(new_index, fill_value=None)\n",
    "\n",
    "    # --- print tail of \"Any Other Result\" then drop the column\n",
    "    remove = \"Any Other Result\"\n",
    "    if remove in df.columns:\n",
    "        print(remove, \"\\n\", df[remove].tail())\n",
    "        df = df.drop(columns=remove, errors=\"ignore\")\n",
    "\n",
    "    # --- final validation\n",
    "    if df.empty:\n",
    "        raise ValueError(\"No data remaining after processing\")\n",
    "\n",
    "    # Convert odds to numeric, replacing any non-numeric values with NaN\n",
    "    for col in df.columns:\n",
    "        df[col] = pd.to_numeric(df[col], errors=\"coerce\")\n",
    "\n",
    "    print(\n",
    "        f\"Successfully loaded data with {len(df)} rows and {len(df.columns)} parties: {list(df.columns)}\"\n",
    "    )\n",
    "    return df\n",
    "\n",
    "\n",
    "core_odds = get_odds_data()"
   ]
  },
  {
   "cell_type": "markdown",
   "id": "f63caceb-bc2e-4976-856e-1e0251ca9e82",
   "metadata": {},
   "source": [
    "## Make some charts"
   ]
  },
  {
   "cell_type": "code",
   "execution_count": 6,
   "id": "5fe9bc58",
   "metadata": {},
   "outputs": [],
   "source": [
    "def limit_data(df: pd.DataFrame, start: int | pd.Period) -> pd.DataFrame:\n",
    "    \"\"\"Limit the data to a specific start date or index.\"\"\"\n",
    "\n",
    "    if isinstance(start, int):\n",
    "        this_data = df.iloc[start:]\n",
    "    else:\n",
    "        this_data = df.loc[df.index >= start]\n",
    "\n",
    "    return this_data"
   ]
  },
  {
   "cell_type": "code",
   "execution_count": 7,
   "id": "8e180a07-a0df-4912-8e3c-0251724ba2df",
   "metadata": {},
   "outputs": [
    {
     "name": "stdout",
     "output_type": "stream",
     "text": [
      "Plotting odds for 2 parties: ['Labor', 'Liberal and/or Nationals']\n"
     ]
    },
    {
     "data": {
      "image/png": "[encoded data removed]",
      "text/plain": [
       "<Figure size 900x450 with 1 Axes>"
      ]
     },
     "metadata": {},
     "output_type": "display_data"
    }
   ],
   "source": [
    "def plot_party_odds(\n",
    "    df: pd.DataFrame,\n",
    "    starts: tuple[int | pd.Period, ...] = (0,),\n",
    ") -> None:\n",
    "    \"\"\"\n",
    "    Plot the party odds to win the next Australian Federal election.\n",
    "    \"\"\"\n",
    "\n",
    "    # --- validate input\n",
    "    if df.empty:\n",
    "        print(\"Warning: No data to plot for party odds\")\n",
    "        return\n",
    "\n",
    "    if df.isnull().all().all():\n",
    "        print(\"Warning: All data is null, cannot create odds plot\")\n",
    "        return\n",
    "\n",
    "    # Check if we have any columns to plot\n",
    "    valid_columns = [col for col in df.columns if not df[col].isnull().all()]\n",
    "    if not valid_columns:\n",
    "        print(\"Warning: No valid data columns found for plotting\")\n",
    "        return\n",
    "\n",
    "    print(f\"Plotting odds for {len(valid_columns)} parties: {valid_columns}\")\n",
    "\n",
    "    colors = mg.colorise_list(df.columns)\n",
    "    mg.multi_start(\n",
    "        df,\n",
    "        function=mg.line_plot_finalise,\n",
    "        starts=starts,\n",
    "        color=colors,\n",
    "        title=\"Odds to win the next Australian Federal election\",\n",
    "        xlabel=None,\n",
    "        ylabel=\"Decimal Odds ($)\",\n",
    "        legend=True,\n",
    "        width=3,\n",
    "        annotate=True,\n",
    "        rounding=2,\n",
    "        dropna=False,\n",
    "        **footers,\n",
    "        show=SHOW,\n",
    "    )\n",
    "\n",
    "\n",
    "plot_party_odds(core_odds)"
   ]
  },
  {
   "cell_type": "code",
   "execution_count": 8,
   "id": "d0a8949a",
   "metadata": {
    "ExecuteTime": {
     "end_time": "2022-03-22T19:52:01.284756Z",
     "start_time": "2022-03-22T19:52:01.282126Z"
    }
   },
   "outputs": [
    {
     "name": "stdout",
     "output_type": "stream",
     "text": [
      "Probability conversion: 224/226 valid data points\n"
     ]
    }
   ],
   "source": [
    "def convert(odds: pd.DataFrame) -> pd.DataFrame:\n",
    "    \"\"\"\n",
    "    Convert decimal odds to adjusted probabilities\n",
    "    (ie, scaled to sum to one; addressing the bookmaker's over-round).\n",
    "    \"\"\"\n",
    "\n",
    "    # --- validate input\n",
    "    if odds.empty:\n",
    "        raise ValueError(\"Cannot convert empty odds DataFrame\")\n",
    "\n",
    "    # Check for non-positive odds\n",
    "    if (odds <= 0).any().any():\n",
    "        print(\n",
    "            \"Warning: Found non-positive odds values, these will be excluded from probability calculations\"\n",
    "        )\n",
    "        odds = odds.where(odds > 0)  # Replace non-positive with NaN\n",
    "\n",
    "    # Check if we have any valid data after filtering\n",
    "    if odds.isnull().all().all():\n",
    "        raise ValueError(\"No valid positive odds found for probability conversion\")\n",
    "\n",
    "    # get raw probabilities (1/odds)\n",
    "    with np.errstate(divide=\"ignore\", invalid=\"ignore\"):\n",
    "        raw_probs = 1 / odds\n",
    "\n",
    "    # remove the bookmakers over-round\n",
    "    # Only calculate for rows that have at least 2 non-null values\n",
    "    total = raw_probs.sum(axis=1)\n",
    "\n",
    "    # Check for rows with zero or very small totals\n",
    "    valid_rows = total > 1e-10\n",
    "    if not valid_rows.any():\n",
    "        raise ValueError(\n",
    "            \"No valid probability calculations possible - all row totals are zero or too small\"\n",
    "        )\n",
    "\n",
    "    probability = raw_probs.div(total, axis=0)\n",
    "\n",
    "    # Convert to percentage\n",
    "    result = probability * 100\n",
    "\n",
    "    # Report statistics\n",
    "    valid_data_points = result.notna().sum().sum()\n",
    "    total_data_points = result.size\n",
    "    print(\n",
    "        f\"Probability conversion: {valid_data_points}/{total_data_points} valid data points\"\n",
    "    )\n",
    "\n",
    "    return result\n",
    "\n",
    "\n",
    "adj_probs = convert(core_odds)"
   ]
  },
  {
   "cell_type": "code",
   "execution_count": 9,
   "id": "1e69b5d3-f59a-41f6-9046-c2b65e4796a6",
   "metadata": {},
   "outputs": [
    {
     "name": "stdout",
     "output_type": "stream",
     "text": [
      "Plotting probabilities for 2 parties: ['Labor', 'Liberal and/or Nationals']\n"
     ]
    },
    {
     "data": {
      "image/png": "[encoded data removed]",
      "text/plain": [
       "<Figure size 900x450 with 1 Axes>"
      ]
     },
     "metadata": {},
     "output_type": "display_data"
    }
   ],
   "source": [
    "def plot_probabilities(\n",
    "    df: pd.DataFrame,\n",
    "    starts: tuple[int | pd.Period, ...] = (0,),\n",
    ") -> None:\n",
    "    \"\"\"Plot the adjusted probabilities of winning the next election.\"\"\"\n",
    "\n",
    "    # --- validate input\n",
    "    if df.empty:\n",
    "        print(\"Warning: No data to plot for probabilities\")\n",
    "        return\n",
    "\n",
    "    if df.isnull().all().all():\n",
    "        print(\"Warning: All probability data is null, cannot create plot\")\n",
    "        return\n",
    "\n",
    "    # Check if we have any columns to plot\n",
    "    valid_columns = [col for col in df.columns if not df[col].isnull().all()]\n",
    "    if not valid_columns:\n",
    "        print(\"Warning: No valid probability columns found for plotting\")\n",
    "        return\n",
    "\n",
    "    print(f\"Plotting probabilities for {len(valid_columns)} parties: {valid_columns}\")\n",
    "\n",
    "    colors = mg.colorise_list(df.columns)\n",
    "    lfooter = (\n",
    "        \"Probabilities adjusted for bookmaker's overround. \"\n",
    "        \"Long-shot odds ignored when calculating probabilities. \"\n",
    "    )\n",
    "    mg.multi_start(\n",
    "        df,\n",
    "        function=mg.line_plot_finalise,\n",
    "        starts=starts,\n",
    "        color=colors,\n",
    "        title=\"Probability to win the next Australian Federal election\",\n",
    "        xlabel=None,\n",
    "        ylabel=\"Probability (%)\",\n",
    "        legend=True,\n",
    "        width=3,\n",
    "        annotate=True,\n",
    "        rounding=1,\n",
    "        dropna=False,\n",
    "        lfooter=lfooter,\n",
    "        rfooter=RFOOTER,\n",
    "        show=SHOW,\n",
    "    )\n",
    "\n",
    "\n",
    "plot_probabilities(adj_probs)"
   ]
  },
  {
   "cell_type": "markdown",
   "id": "27680ec7-61f8-41e0-b518-bdaf23e74a15",
   "metadata": {},
   "source": [
    "## Finished"
   ]
  },
  {
   "cell_type": "code",
   "execution_count": 10,
   "id": "164b1e93-89a0-4bc8-b578-ba19de4e3a18",
   "metadata": {},
   "outputs": [
    {
     "name": "stdout",
     "output_type": "stream",
     "text": [
      "Last updated: 2025-08-27 11:34:16\n",
      "\n",
      "Python implementation: CPython\n",
      "Python version       : 3.13.5\n",
      "IPython version      : 9.4.0\n",
      "\n",
      "conda environment: n/a\n",
      "\n",
      "Compiler    : Clang 20.1.4 \n",
      "OS          : Darwin\n",
      "Release     : 24.6.0\n",
      "Machine     : arm64\n",
      "Processor   : arm\n",
      "CPU cores   : 14\n",
      "Architecture: 64bit\n",
      "\n",
      "pandas: 2.3.1\n",
      "numpy : 2.3.2\n",
      "mgplot: 0.2.12\n",
      "\n",
      "Watermark: 2.5.0\n",
      "\n"
     ]
    }
   ],
   "source": [
    "%load_ext watermark\n",
    "%watermark -t -d -u --python --machine --conda --iversions --watermark"
   ]
  },
  {
   "cell_type": "code",
   "execution_count": 11,
   "id": "2d92a673-64f5-4d67-a1b9-893bc1be4cc6",
   "metadata": {},
   "outputs": [
    {
     "name": "stdout",
     "output_type": "stream",
     "text": [
      "It is done\n"
     ]
    }
   ],
   "source": [
    "print(\"It is done\")"
   ]
  }
 ],
 "metadata": {
  "kernelspec": {
   "display_name": "Election-2028",
   "language": "python",
   "name": "python3"
  },
  "language_info": {
   "codemirror_mode": {
    "name": "ipython",
    "version": 3
   },
   "file_extension": ".py",
   "mimetype": "text/x-python",
   "name": "python",
   "nbconvert_exporter": "python",
   "pygments_lexer": "ipython3",
   "version": "3.13.5"
  },
  "toc": {
   "base_numbering": 1,
   "nav_menu": {},
   "number_sections": true,
   "sideBar": true,
   "skip_h1_title": true,
   "title_cell": "Table of Contents",
   "title_sidebar": "Contents",
   "toc_cell": true,
   "toc_position": {},
   "toc_section_display": true,
   "toc_window_display": true
  }
 },
 "nbformat": 4,
 "nbformat_minor": 5
}
